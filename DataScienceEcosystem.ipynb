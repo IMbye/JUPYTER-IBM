{
 "cells": [
  {
   "cell_type": "markdown",
   "id": "6f23efde-5b3b-4f47-a598-c7804b9097aa",
   "metadata": {},
   "source": [
    "# Data Science Tools and Ecosystem"
   ]
  },
  {
   "cell_type": "markdown",
   "id": "ef11b657-531d-4986-96a7-9dea5c23445a",
   "metadata": {},
   "source": [
    "In this notebook, Data Science Tools and Ecosystem are summarized."
   ]
  },
  {
   "cell_type": "markdown",
   "id": "7aadef15-2be5-4d59-be22-595d0f42f45d",
   "metadata": {},
   "source": [
    "# Objectives: List popular languages for Data Science.\n",
    "+ Python\n",
    "+ R\n",
    "+ SQL\n",
    "+ JAVA\n",
    "+ MATLAB"
   ]
  },
  {
   "cell_type": "markdown",
   "id": "b5f1a89d-6a44-4157-b9f5-0aac985acb2f",
   "metadata": {},
   "source": [
    "Some of the popular languages that Data Scientists use are:\n",
    "1. Python\n",
    "2. R\n",
    "3. SQL\n",
    "4. JAVA\n",
    "5. C++\n",
    "6. MATLAB\n"
   ]
  },
  {
   "cell_type": "markdown",
   "id": "f51fe533-603b-4476-a3bc-3a724a3907cc",
   "metadata": {},
   "source": [
    "Some of the commonly used libraries used by Data Scientists include:\n",
    "1. Pandas\n",
    "2. Numpy\n",
    "3. Matplotlib\n",
    "4. SciPy\n",
    "5. Seaborn\n",
    "6. PyTorch\n",
    "7. Machine Learning"
   ]
  },
  {
   "cell_type": "markdown",
   "id": "67784c00-e730-4931-aeea-a86d6f28e9dc",
   "metadata": {
    "tags": []
   },
   "source": [
    "|Data Science Tools|\n",
    "|------------------|\n",
    "|Python|\n",
    "|SQL\n",
    "|R|"
   ]
  },
  {
   "cell_type": "markdown",
   "id": "fb608a05-7dd3-489c-8d7b-4869fb4e5e6d",
   "metadata": {},
   "source": [
    "### Below are a few examples of evaluating arithmetic expressions in Python"
   ]
  },
  {
   "cell_type": "code",
   "execution_count": 4,
   "id": "1542387a-2932-427f-9a6a-29fc36858148",
   "metadata": {
    "tags": []
   },
   "outputs": [
    {
     "data": {
      "text/plain": [
       "17"
      ]
     },
     "execution_count": 4,
     "metadata": {},
     "output_type": "execute_result"
    }
   ],
   "source": [
    "#This a simple arithmetic expression to mutiply then add integers\n",
    "(3*4)+5"
   ]
  },
  {
   "cell_type": "code",
   "execution_count": 5,
   "id": "670a1296-c5b0-41b1-a272-ad9f979e1fba",
   "metadata": {
    "tags": []
   },
   "outputs": [
    {
     "data": {
      "text/plain": [
       "3.3333333333333335"
      ]
     },
     "execution_count": 5,
     "metadata": {},
     "output_type": "execute_result"
    }
   ],
   "source": [
    "#This will convert 200 minutes to hours by diving by 60\n",
    "200/60"
   ]
  },
  {
   "cell_type": "markdown",
   "id": "f90a1910-5870-4a94-bbe5-79e14d8f06b7",
   "metadata": {},
   "source": [
    "## Author Ida"
   ]
  }
 ],
 "metadata": {
  "kernelspec": {
   "display_name": "Python",
   "language": "python",
   "name": "conda-env-python-py"
  },
  "language_info": {
   "codemirror_mode": {
    "name": "ipython",
    "version": 3
   },
   "file_extension": ".py",
   "mimetype": "text/x-python",
   "name": "python",
   "nbconvert_exporter": "python",
   "pygments_lexer": "ipython3",
   "version": "3.7.12"
  }
 },
 "nbformat": 4,
 "nbformat_minor": 5
}
